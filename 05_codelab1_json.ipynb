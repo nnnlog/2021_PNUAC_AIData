{
  "nbformat": 4,
  "nbformat_minor": 0,
  "metadata": {
    "colab": {
      "name": "05_codelab1_json.ipynb",
      "provenance": [],
      "collapsed_sections": [],
      "include_colab_link": true
    },
    "interpreter": {
      "hash": "b3ba2566441a7c06988d0923437866b63cedc61552a5af99d1f4fb67d367b25f"
    },
    "kernelspec": {
      "display_name": "Python 3.8.5 64-bit ('base': conda)",
      "name": "python3"
    },
    "language_info": {
      "name": "python",
      "version": ""
    }
  },
  "cells": [
    {
      "cell_type": "markdown",
      "metadata": {
        "id": "view-in-github",
        "colab_type": "text"
      },
      "source": [
        "<a href=\"https://colab.research.google.com/github/nnnlog/2021_PNUAC_AIData/blob/main/05_codelab1_json.ipynb\" target=\"_parent\"><img src=\"https://colab.research.google.com/assets/colab-badge.svg\" alt=\"Open In Colab\"/></a>"
      ]
    },
    {
      "cell_type": "markdown",
      "metadata": {
        "id": "6XhtXcXjl_ui"
      },
      "source": [
        "# JSON 모듈"
      ]
    },
    {
      "cell_type": "markdown",
      "metadata": {
        "id": "f_b-XYt5mIbL"
      },
      "source": [
        "\n",
        "## **JSON(JavaScript Object Notation)**\n",
        "+ 데이타를 교환하는 포맷으로 키-값의 쌍으로 이루어진 컬렉션\n",
        "+ 데이터 포맷이 단순하고 유연함\n",
        "+ 웹 상에서 데이터를 교환하는 데 많이 사용되고 있음"
      ]
    },
    {
      "cell_type": "markdown",
      "metadata": {
        "id": "YZrPobMcmMNx"
      },
      "source": [
        "## **Python  JSON 표준 라이브러리**\n",
        "```python\n",
        "import json\n",
        "```"
      ]
    },
    {
      "cell_type": "code",
      "metadata": {
        "id": "CYrJN8t2mOsQ"
      },
      "source": [
        "import json"
      ],
      "execution_count": 1,
      "outputs": []
    },
    {
      "cell_type": "markdown",
      "metadata": {
        "id": "lOsdPRUDmgCb"
      },
      "source": [
        "### **JSON 인코딩**\n",
        "\n",
        "```python\n",
        "json.dumps()\n",
        "```\n",
        "\n",
        "+ Python 타입의 데이터를 JSON 문자열로 변경\n",
        "+ 딕션너리, 리스트, 튜플을 JSON 문자열로 변경\n",
        "+ 반환값은 JSON 표현을 갖는 문자열(str 타입)\n",
        "+ \"indent\" 옵션\n",
        " - JSON 문자열을 읽기 편하게  Identation이 적용된 문자열 반환\n",
        " ```python\n",
        "    json.dumps(파이썬자료, indent=4)\n",
        "  ```\n",
        "+ 한글 처리 \n",
        " - ensure_ascii=False\n",
        " ```python\n",
        "    json.dumps(파이썬자료, ensure_ascii=False)\n",
        "  ```\n"
      ]
    },
    {
      "cell_type": "markdown",
      "metadata": {
        "id": "_N83QELN81Uu"
      },
      "source": [
        "&#9997; **python 노트: 컬렉션자료형(collection data type)**\n",
        "\n",
        "---\n",
        "\n",
        "+ 여러 요소를 묶어서 처리할 수 있는 자료형  \n",
        "<img src=\"https://drive.google.com/uc?export=view&id=1qNHKZPJv546haViE6KBY3kg8gUlHJm_F\" width=\"80%\">\n",
        "\n",
        "\n",
        "\n",
        "  + **리스트(list)**\n",
        "    - 리스트의 각 요소는 순서를 가지고 있음\n",
        "    - 대괄호([])로 작성되며 각 요소는 쉼표(,)로 구분\n",
        "    - 요소를 추가(append), 수정, 삭제(pop, remove) 가능\n",
        "\n",
        "  + **튜플(tuple)**\n",
        "    + 튜플의 각 요소는 순서를 가지고 있음\n",
        "    + 괄호(())로 작성되며 각 요소는 쉼표(,)로 구분\n",
        "    + 요소를 추가, 수정, 삭제 불가능\n",
        "    + **한번 결정된 요소는 변경 불가능**\n",
        "    + **인덱싱과 슬라이싱은 리스트와 동일**\n",
        "    + 각 요소에 변수 할당 가능\n",
        "      - x, y = (10, 20)\n",
        "\n",
        "  + **딕션너리(dictionary)**\n",
        "    - 키(key)와 값(value) 쌍을 요소로 가짐\n",
        "      - 요소 키 컬렉션  : 딕션너리명.keys()\n",
        "      - 요소 값 컬렉션 : 딕션너리명.values()\n",
        "    - 중괄호({})로 작성되며 각 요소는 쉼표(,)로 구분\n",
        "    - 순서 없음 \n",
        "    - 키는 변경할 수 없으며 값은 변경가능 \n",
        "\n",
        "  + **집합(set)** \n",
        "    - 중복 없는 요소로만 구성\n",
        "    - 중괄호({}) 작성되며 각 요소는 쉼표(,)로 구분\n",
        "    - 순서 없음\n",
        "    - 집합 연산 가능 \n",
        "      - 교집합(&), 합집합(|), 차집합(-)\n",
        "---"
      ]
    },
    {
      "cell_type": "code",
      "metadata": {
        "colab": {
          "base_uri": "https://localhost:8080/"
        },
        "id": "uKg5Uryimee7",
        "outputId": "561b4058-e514-4df8-c5d0-235a6f19a9ea"
      },
      "source": [
        "jdata = {\n",
        "    \"request_id\": \"0\",\n",
        "    \"return_type\": \"omAnalysis\",\n",
        "    \"result\": 0,\n",
        "    \"reason\": \"\",\n",
        "    \"return_object\": {\n",
        "        \"query\": \"한국의 가을은 매우 아름답습니다.\",\n",
        "        \"type\": \"감성분석\",\n",
        "        \"score\": 0.9999995231628418,\n",
        "        \"label\": \"긍정\"\n",
        "    },\n",
        "    \"result_code\": \"success\"\n",
        "}\n",
        "print(type(jdata))"
      ],
      "execution_count": 2,
      "outputs": [
        {
          "output_type": "stream",
          "text": [
            "<class 'dict'>\n"
          ],
          "name": "stdout"
        }
      ]
    },
    {
      "cell_type": "code",
      "metadata": {
        "colab": {
          "base_uri": "https://localhost:8080/",
          "height": 35
        },
        "id": "fsfQxHfQs3ST",
        "outputId": "40c60443-ee36-46ad-f901-3f061117fdb3"
      },
      "source": [
        "#딕션너리에서 긍정의 값을 추출\n",
        "jdata['return_object']['label']"
      ],
      "execution_count": 3,
      "outputs": [
        {
          "output_type": "execute_result",
          "data": {
            "application/vnd.google.colaboratory.intrinsic+json": {
              "type": "string"
            },
            "text/plain": [
              "'긍정'"
            ]
          },
          "metadata": {
            "tags": []
          },
          "execution_count": 3
        }
      ]
    },
    {
      "cell_type": "code",
      "metadata": {
        "colab": {
          "base_uri": "https://localhost:8080/"
        },
        "id": "1PGydmbbkD-a",
        "outputId": "f4d547c7-9c93-4307-dea6-b507bc5e5edd"
      },
      "source": [
        "#딕션너리를 json형식의 문자열로 변환1\n",
        "jsonStr = json.dumps(jdata)\n",
        "print(jsonStr)\n",
        "print(type(jsonStr))"
      ],
      "execution_count": 7,
      "outputs": [
        {
          "output_type": "stream",
          "text": [
            "{\"request_id\": \"0\", \"return_type\": \"omAnalysis\", \"result\": 0, \"reason\": \"\", \"return_object\": {\"query\": \"\\ud55c\\uad6d\\uc758 \\uac00\\uc744\\uc740 \\ub9e4\\uc6b0 \\uc544\\ub984\\ub2f5\\uc2b5\\ub2c8\\ub2e4.\", \"type\": \"\\uac10\\uc131\\ubd84\\uc11d\", \"score\": 0.9999995231628418, \"label\": \"\\uae0d\\uc815\"}, \"result_code\": \"success\"}\n",
            "<class 'str'>\n"
          ],
          "name": "stdout"
        }
      ]
    },
    {
      "cell_type": "code",
      "metadata": {
        "colab": {
          "base_uri": "https://localhost:8080/"
        },
        "id": "bk2Ybf7Bm3UQ",
        "outputId": "b008e40f-e4a8-4a56-ec94-3834d27dbbcd"
      },
      "source": [
        "#딕션너리를 json형식의 문자열로 변환2\n",
        "jsonStr1 = json.dumps(jdata, indent='\\t')\n",
        "print(jsonStr1)\n",
        "print(type(jsonStr1))"
      ],
      "execution_count": 10,
      "outputs": [
        {
          "output_type": "stream",
          "text": [
            "{\n",
            "\t\"request_id\": \"0\",\n",
            "\t\"return_type\": \"omAnalysis\",\n",
            "\t\"result\": 0,\n",
            "\t\"reason\": \"\",\n",
            "\t\"return_object\": {\n",
            "\t\t\"query\": \"\\ud55c\\uad6d\\uc758 \\uac00\\uc744\\uc740 \\ub9e4\\uc6b0 \\uc544\\ub984\\ub2f5\\uc2b5\\ub2c8\\ub2e4.\",\n",
            "\t\t\"type\": \"\\uac10\\uc131\\ubd84\\uc11d\",\n",
            "\t\t\"score\": 0.9999995231628418,\n",
            "\t\t\"label\": \"\\uae0d\\uc815\"\n",
            "\t},\n",
            "\t\"result_code\": \"success\"\n",
            "}\n",
            "<class 'str'>\n"
          ],
          "name": "stdout"
        }
      ]
    },
    {
      "cell_type": "code",
      "metadata": {
        "colab": {
          "base_uri": "https://localhost:8080/"
        },
        "id": "fk_y1m9om7-C",
        "outputId": "04333125-8a0b-44b7-ecf6-3f251e79020b"
      },
      "source": [
        "#딕션너리를 json형식의 문자열로 변환3\n",
        "jsonStr2 = json.dumps(jdata, indent='\\t', ensure_ascii=False)\n",
        "print(jsonStr2)\n",
        "print(type(jsonStr2))"
      ],
      "execution_count": 23,
      "outputs": [
        {
          "output_type": "stream",
          "text": [
            "{\n",
            "\t\"request_id\": \"0\",\n",
            "\t\"return_type\": \"omAnalysis\",\n",
            "\t\"result\": 0,\n",
            "\t\"reason\": \"\",\n",
            "\t\"return_object\": {\n",
            "\t\t\"query\": \"한국의 가을은 매우 아름답습니다.\",\n",
            "\t\t\"type\": \"감성분석\",\n",
            "\t\t\"score\": 0.9999995231628418,\n",
            "\t\t\"label\": \"긍정\"\n",
            "\t},\n",
            "\t\"result_code\": \"success\"\n",
            "}\n",
            "<class 'str'>\n"
          ],
          "name": "stdout"
        }
      ]
    },
    {
      "cell_type": "code",
      "metadata": {
        "colab": {
          "base_uri": "https://localhost:8080/",
          "height": 162
        },
        "id": "39XFflaZx6c_",
        "outputId": "d4c6fe36-b6d5-411f-e59d-06d4e159b174"
      },
      "source": [
        "jsonStr2['return_object']"
      ],
      "execution_count": 12,
      "outputs": [
        {
          "output_type": "error",
          "ename": "TypeError",
          "evalue": "ignored",
          "traceback": [
            "\u001b[0;31m---------------------------------------------------------------------------\u001b[0m",
            "\u001b[0;31mTypeError\u001b[0m                                 Traceback (most recent call last)",
            "\u001b[0;32m<ipython-input-12-be55398ce88e>\u001b[0m in \u001b[0;36m<module>\u001b[0;34m()\u001b[0m\n\u001b[0;32m----> 1\u001b[0;31m \u001b[0mjsonStr2\u001b[0m\u001b[0;34m[\u001b[0m\u001b[0;34m'return_object'\u001b[0m\u001b[0;34m]\u001b[0m\u001b[0;34m\u001b[0m\u001b[0;34m\u001b[0m\u001b[0m\n\u001b[0m",
            "\u001b[0;31mTypeError\u001b[0m: string indices must be integers"
          ]
        }
      ]
    },
    {
      "cell_type": "code",
      "metadata": {
        "colab": {
          "base_uri": "https://localhost:8080/",
          "height": 179
        },
        "id": "Tf3V9pZQw1AW",
        "outputId": "7ec528b5-45e7-47cb-e36d-53aa30753626"
      },
      "source": [
        "jsonStr2 = jsonStr2.replace('\\t', '').replace('\\n', '')\n",
        "jsonStr2 "
      ],
      "execution_count": 22,
      "outputs": [
        {
          "output_type": "error",
          "ename": "AttributeError",
          "evalue": "ignored",
          "traceback": [
            "\u001b[0;31m---------------------------------------------------------------------------\u001b[0m",
            "\u001b[0;31mAttributeError\u001b[0m                            Traceback (most recent call last)",
            "\u001b[0;32m<ipython-input-22-08a4eb09b4c8>\u001b[0m in \u001b[0;36m<module>\u001b[0;34m()\u001b[0m\n\u001b[0;32m----> 1\u001b[0;31m \u001b[0mjsonStr2\u001b[0m \u001b[0;34m=\u001b[0m \u001b[0mjsonStr2\u001b[0m\u001b[0;34m.\u001b[0m\u001b[0mreplace\u001b[0m\u001b[0;34m(\u001b[0m\u001b[0;34m'\\t'\u001b[0m\u001b[0;34m,\u001b[0m \u001b[0;34m''\u001b[0m\u001b[0;34m)\u001b[0m\u001b[0;34m.\u001b[0m\u001b[0mreplace\u001b[0m\u001b[0;34m(\u001b[0m\u001b[0;34m'\\n'\u001b[0m\u001b[0;34m,\u001b[0m \u001b[0;34m''\u001b[0m\u001b[0;34m)\u001b[0m\u001b[0;34m\u001b[0m\u001b[0;34m\u001b[0m\u001b[0m\n\u001b[0m\u001b[1;32m      2\u001b[0m \u001b[0mjsonStr2\u001b[0m\u001b[0;34m\u001b[0m\u001b[0;34m\u001b[0m\u001b[0m\n",
            "\u001b[0;31mAttributeError\u001b[0m: 'list' object has no attribute 'replace'"
          ]
        }
      ]
    },
    {
      "cell_type": "code",
      "metadata": {
        "colab": {
          "base_uri": "https://localhost:8080/"
        },
        "id": "cyde_jlexBHw",
        "outputId": "57c8d883-86d1-444c-970c-f1c082a1eaf5"
      },
      "source": [
        "jsonStr2 = jsonStr2 .split(',')\n",
        "jsonStr2"
      ],
      "execution_count": 19,
      "outputs": [
        {
          "output_type": "execute_result",
          "data": {
            "text/plain": [
              "['{\"request_id\": \"0\"',\n",
              " '\"return_type\": \"omAnalysis\"',\n",
              " '\"result\": 0',\n",
              " '\"reason\": \"\"',\n",
              " '\"return_object\": {\"query\": \"한국의 가을은 매우 아름답습니다.\"',\n",
              " '\"type\": \"감성분석\"',\n",
              " '\"score\": 0.9999995231628418',\n",
              " '\"label\": \"긍정\"}',\n",
              " '\"result_code\": \"success\"}']"
            ]
          },
          "metadata": {
            "tags": []
          },
          "execution_count": 19
        }
      ]
    },
    {
      "cell_type": "markdown",
      "metadata": {
        "id": "CUrA8K6Sm6lK"
      },
      "source": [
        "### **JSON 디코딩**\n",
        "\n",
        "\n",
        "```python\n",
        "json.loads()\n",
        "```\n",
        "\n",
        "+ JSON 문자열을 딕션너리, 리스트, 튜플과 같은 Python 타입으로 변경"
      ]
    },
    {
      "cell_type": "code",
      "metadata": {
        "colab": {
          "base_uri": "https://localhost:8080/"
        },
        "id": "X7tCVVMxyVD3",
        "outputId": "a1cf46fc-20d2-4125-9b3c-96efd0ae86eb"
      },
      "source": [
        "#json형식의 문자열을 딕션너리로 변환\n",
        "print(jsonStr2)\n",
        "j2 = json.loads(jsonStr2)\n",
        "print(j2)\n",
        "print(type(j2))"
      ],
      "execution_count": 24,
      "outputs": [
        {
          "output_type": "stream",
          "text": [
            "{\n",
            "\t\"request_id\": \"0\",\n",
            "\t\"return_type\": \"omAnalysis\",\n",
            "\t\"result\": 0,\n",
            "\t\"reason\": \"\",\n",
            "\t\"return_object\": {\n",
            "\t\t\"query\": \"한국의 가을은 매우 아름답습니다.\",\n",
            "\t\t\"type\": \"감성분석\",\n",
            "\t\t\"score\": 0.9999995231628418,\n",
            "\t\t\"label\": \"긍정\"\n",
            "\t},\n",
            "\t\"result_code\": \"success\"\n",
            "}\n",
            "{'request_id': '0', 'return_type': 'omAnalysis', 'result': 0, 'reason': '', 'return_object': {'query': '한국의 가을은 매우 아름답습니다.', 'type': '감성분석', 'score': 0.9999995231628418, 'label': '긍정'}, 'result_code': 'success'}\n",
            "<class 'dict'>\n"
          ],
          "name": "stdout"
        }
      ]
    },
    {
      "cell_type": "code",
      "metadata": {
        "colab": {
          "base_uri": "https://localhost:8080/",
          "height": 35
        },
        "id": "ch52DpysyrrR",
        "outputId": "44ade20f-7325-470a-fed6-2e75bc3a060b"
      },
      "source": [
        "j2['return_object']['label']"
      ],
      "execution_count": 25,
      "outputs": [
        {
          "output_type": "execute_result",
          "data": {
            "application/vnd.google.colaboratory.intrinsic+json": {
              "type": "string"
            },
            "text/plain": [
              "'긍정'"
            ]
          },
          "metadata": {
            "tags": []
          },
          "execution_count": 25
        }
      ]
    },
    {
      "cell_type": "markdown",
      "metadata": {
        "id": "vaYPSVcEomOl"
      },
      "source": [
        "&#9997; **python 노트 : with .. as**\n",
        "\n",
        "\n",
        "---\n",
        "\n",
        "\n",
        "```python\n",
        "with open('파일명', '모드') as 파일객체 :\n",
        "```\n",
        "+ 파일을 해당 모드로 open()하면 with구문 종료 후에 자동 close()\n",
        "+ 모드 종류\n",
        "  + 'r' : 읽기 \n",
        "  + 'w' : 쓰기  \n",
        "  + 'a' : 추가 \n",
        "\n",
        "---"
      ]
    },
    {
      "cell_type": "code",
      "metadata": {
        "colab": {
          "base_uri": "https://localhost:8080/"
        },
        "id": "uNyTWhDKnt4a",
        "outputId": "1fed33fe-6881-448c-f6ed-67868c591265"
      },
      "source": [
        "#data.json 파일을 읽어서 딕션너리로 가져오기\n",
        "with open('/content/drive/MyDrive/PNU AI/git/data/data.json', 'r') as fp:\n",
        "  ljson = json.load(fp)\n",
        "print(type(ljson))\n",
        "print(ljson)\n",
        "print(ljson.keys())"
      ],
      "execution_count": 27,
      "outputs": [
        {
          "output_type": "stream",
          "text": [
            "<class 'dict'>\n",
            "{'request_id': '0', 'return_type': 'omAnalysis', 'result': 0, 'reason': '', 'return_object': {'query': '한국의 가을은 매우 아름답습니다.', 'type': '감성분석', 'score': 0.9999995231628418, 'label': '긍정'}, 'result_code': 'success'}\n",
            "dict_keys(['request_id', 'return_type', 'result', 'reason', 'return_object', 'result_code'])\n"
          ],
          "name": "stdout"
        }
      ]
    },
    {
      "cell_type": "code",
      "metadata": {
        "id": "iXkIZjBuSgZG",
        "outputId": "c13b6e4a-b360-451b-e6da-f1b0eff88238",
        "colab": {
          "base_uri": "https://localhost:8080/"
        }
      },
      "source": [
        "from google.colab import drive\n",
        "drive.mount('/content/drive')"
      ],
      "execution_count": 26,
      "outputs": [
        {
          "output_type": "stream",
          "text": [
            "Mounted at /content/drive\n"
          ],
          "name": "stdout"
        }
      ]
    },
    {
      "cell_type": "markdown",
      "metadata": {
        "id": "WNrjAo72uMlq"
      },
      "source": [
        "## 해결문제\n",
        "---\n",
        "AI Cloud의 무료 AI 서비스 중 텍스트 감정 분석 결과를 분석하여 이모티콘을 대답해 보세요.\n",
        "+ Open APIs 기반의 AI 서비스 : <https://www.saltlux.ai/portal/main>\n",
        "+ 감정 종류\n",
        "  + 기쁨, 신뢰, 공포, 놀라움, 슬픔, 혐오, 분노, 기대\n",
        "\n",
        "```python\n",
        "😉 파이썬 프로그램 공부는 재미있네요. : 신뢰 ( 0.96%)\n",
        "```\n",
        "\n"
      ]
    },
    {
      "cell_type": "markdown",
      "metadata": {
        "id": "PZm7VPY62RWT"
      },
      "source": [
        "&#9997; **python 노트 : 파이썬으로 유니코드 이모지 출력**\n",
        "\n",
        "\n",
        "---\n",
        "\n",
        "  1. 사용할 이모지의 유니코드값을 찾음 : <http://unicode.org/emoji/charts/full-emoji-list.html>\n",
        "  2. +을 000으로 변경 : U+1F604 -> U0001F604\n",
        "  3. \\\\을 넣어서 print문으로 출력\n",
        "\n",
        "```\n",
        "{'기쁨':'\\U0001F604', '신뢰':'\\U0001F609', '공포':'\\U0001F910', '놀라움':'\\U0001F631', '슬픔':'\\U0001F620', '혐오':'\\U0001F616', '분노':'\\U0001F621', '기대':'\\U0001F9D0'}\n",
        "```\n",
        "---"
      ]
    },
    {
      "cell_type": "markdown",
      "metadata": {
        "id": "kdz9WJkZuVbU"
      },
      "source": [
        "### 예시)\n",
        "```\n",
        "{\n",
        "    \"query\": \"파이썬 프로그램 공부는 재미있네요.\",\n",
        "    \"type\": \"감정분석\",\n",
        "    \"Result\": [\n",
        "        [\n",
        "            0.9625990390777588,\n",
        "            \"신뢰\"\n",
        "        ]\n",
        "    ]\n",
        "}\n",
        "```"
      ]
    }
  ]
}