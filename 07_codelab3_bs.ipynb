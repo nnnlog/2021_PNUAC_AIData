{
  "nbformat": 4,
  "nbformat_minor": 0,
  "metadata": {
    "colab": {
      "name": "07_codelab3_bs.ipynb",
      "provenance": [],
      "include_colab_link": true
    },
    "interpreter": {
      "hash": "b3ba2566441a7c06988d0923437866b63cedc61552a5af99d1f4fb67d367b25f"
    },
    "kernelspec": {
      "display_name": "Python 3.8.5 64-bit ('base': conda)",
      "name": "python3"
    },
    "language_info": {
      "name": "python",
      "version": ""
    }
  },
  "cells": [
    {
      "cell_type": "markdown",
      "metadata": {
        "id": "view-in-github",
        "colab_type": "text"
      },
      "source": [
        "<a href=\"https://colab.research.google.com/github/nnnlog/2021_PNUAC_AIData/blob/main/07_codelab3_bs.ipynb\" target=\"_parent\"><img src=\"https://colab.research.google.com/assets/colab-badge.svg\" alt=\"Open In Colab\"/></a>"
      ]
    },
    {
      "cell_type": "markdown",
      "metadata": {
        "id": "ujvDcnX-o9-W"
      },
      "source": [
        "🏷️ **웹 동작원리**\n",
        "\n",
        "\n",
        "---\n",
        "<img src ='https://drive.google.com/uc?export=view&id=1amZ78fUnfp3o5Q1XVKDG3eAAzKaYlPrp'>\n",
        "\n",
        "---"
      ]
    },
    {
      "cell_type": "markdown",
      "metadata": {
        "id": "yaRwPjIG0UbX"
      },
      "source": [
        "# Beautiful Soup 모듈\n",
        "+ HTML 및 XML 문서 를 구문 분석하기 위한 Python 패키지\n",
        "+ DOM 추출\n",
        "+ 기본적으로 UTF-8 인코딩 방식이지만 CP949도 지원"
      ]
    },
    {
      "cell_type": "markdown",
      "metadata": {
        "id": "qXgcvJCO1XM6"
      },
      "source": [
        "🏷️ **웹 스크래핑(Web Scraping)과 웹 크롤링(Web Crawling)**\n",
        "\n",
        "\n",
        "---\n",
        "+ 웹 스크래핑(Web Scraping) : 웹 사이트 상에서 원하는 정보를 추출하는 기술\n",
        "+ 웹 크롤링(Web Crawling) : 웹 크롤러(자동화봇)가정해진 규칙에 따라 웹 페이지를 수집해서 각 사이트의 정보를 분류하는 기술\n",
        "\n",
        "\n",
        "\n",
        "\n",
        "---\n",
        "\n",
        "\n"
      ]
    },
    {
      "cell_type": "markdown",
      "metadata": {
        "id": "7U-axA1K3yaR"
      },
      "source": [
        "## BeautifulSoup 모듈을 활용한 스크래핑"
      ]
    },
    {
      "cell_type": "markdown",
      "metadata": {
        "id": "a2-66aK64FqU"
      },
      "source": [
        "### 1. 웹 페이지 가져오기"
      ]
    },
    {
      "cell_type": "code",
      "metadata": {
        "colab": {
          "base_uri": "https://localhost:8080/",
          "height": 52
        },
        "id": "qSqcLjpt0NZH",
        "outputId": "af23a6ce-cf3a-4b5b-83cf-a4de416cff56"
      },
      "source": [
        "#모듈 import \n",
        "from urllib.request import urlopen\n",
        "\n",
        "url = 'https://news.daum.net/ranking/popular'\n",
        "#웹 페이지 가져오기 \n",
        "webpage = urlopen(url).read().decode(\"utf-8\")\n",
        "\n",
        "webpage[:200]"
      ],
      "execution_count": 1,
      "outputs": [
        {
          "output_type": "execute_result",
          "data": {
            "application/vnd.google.colaboratory.intrinsic+json": {
              "type": "string"
            },
            "text/plain": [
              "'\\n<!DOCTYPE html>\\n\\n\\n\\n<html lang=\"ko\" class=\"os_unknown none unknown version_0 \">\\n<head>\\n<meta charset=\"utf-8\">\\n<meta name=\"referrer\" content=\"always\" />\\n\\n<meta property=\"og:author\" content=\"Daum 뉴스\" />'"
            ]
          },
          "metadata": {
            "tags": []
          },
          "execution_count": 1
        }
      ]
    },
    {
      "cell_type": "markdown",
      "metadata": {
        "id": "UiUuj4XA46HA"
      },
      "source": [
        "### 2. BeautifulSoup 객체 생성\n",
        "\n",
        "```python\n",
        "from bs4 import BeautifulSoup as bs\n",
        "\n",
        "인스턴스명 = BeautifulSoup(markup, parser)\n",
        "```\n",
        "* 첫 번째 인자 : HTML 형식의 문자열\n",
        "* 두 번째 인자 : 첫 번째 인자의 문자열을 해석하기 위한 파서\n",
        "\n",
        "  * **파서(parser) 종류**\n",
        "    + html.parser : 파이썬 표준 라이브러리에 포함된 파서로 빠르지만 유연하지 않기 때문에 단순한 HTML문서에 사용\n",
        "\n",
        "        ```\n",
        "        BeautifulSoup(markup, \"html.parser\")\n",
        "        ```\n",
        "\n",
        "    + lxml : 매우 빠르고 유연하지만 외부 의존\n",
        "      - lxml의 HTML 파서\n",
        "          ```\n",
        "          BeautifulSoup(markup, \"lxml\")\n",
        "          ```\n",
        "      - lxml의 XML 파서\n",
        "          ```\n",
        "          BeautifulSoup(markup, \"lxml-xml\")\n",
        "          ```\n",
        "\n",
        "    + html5lib : 웹 브라우저와 동일한 방식으로 페이지 구문 분석하는 파서로 매우 느리지만 매우 유연하지만 외부 의존\n",
        "        ```\n",
        "        BeautifulSoup(markup, \"html5lib\")\n",
        "      ```"
      ]
    },
    {
      "cell_type": "code",
      "metadata": {
        "id": "yBCdkhy15Vrr"
      },
      "source": [
        "#모듈 import \n",
        "from bs4 import BeautifulSoup as bs\n",
        "\n",
        "#DOM 문서 만들기\n",
        "html = bs(webpage, 'html.parser')"
      ],
      "execution_count": 11,
      "outputs": []
    },
    {
      "cell_type": "code",
      "metadata": {
        "colab": {
          "base_uri": "https://localhost:8080/"
        },
        "id": "NqqduTmfu_y1",
        "outputId": "bcdb97a7-bce9-41b5-d707-58c1dd50dc30"
      },
      "source": [
        "type(html)"
      ],
      "execution_count": 3,
      "outputs": [
        {
          "output_type": "execute_result",
          "data": {
            "text/plain": [
              "bs4.BeautifulSoup"
            ]
          },
          "metadata": {
            "tags": []
          },
          "execution_count": 3
        }
      ]
    },
    {
      "cell_type": "markdown",
      "metadata": {
        "id": "ZvinaJXV5ZDP"
      },
      "source": [
        "### 2. **Beautiful Soup 파싱 메소드**\n",
        "+ 태그명\n",
        "  + **.find(태그명)** : 조건에 맞는 태그 1개만 찾음\n",
        "  + **.find_all(태그명)** : 조건에 맞는 모든 태그 찾음\n",
        "+ css선택자\n",
        "  + **.select_one(선택자)** : 조건에 맞는 CSS선택자 1개만 찾음\n",
        "  + **.select(선택자)** : 조건에 맞는 CSS선택자 찾음"
      ]
    },
    {
      "cell_type": "markdown",
      "metadata": {
        "id": "KtEAsQTx72Ab"
      },
      "source": [
        "🏷️ **HTML과 CSS**\n",
        "\n",
        "\n",
        "---\n",
        "\n",
        "\n",
        "\n",
        "+ **HTML(Hyper Text Markup Language)**\n",
        "  + 웹페이지 상에서 문단, 제목, 표, 이미지, 동영상 등을 정의하고 웹페이지 내용을 구조화하고 의미를 부여하는 마크업 언어\n",
        "+ **CSS(Cascading Style Sheet)**\n",
        "  + 색상, 레이아웃 및 글꼴등 웹페이지의 디자인 요소를 담당하는 선언형 언어로 스타일 시트(Style Sheet)라고도 하고, HTML로 작성된 웹페이지를 보기 좋게 꾸며주는 스타일 규칙 언어\n",
        "\n",
        "+ 참고 사이트 : <https://www.w3schools.com/>\n",
        "\n",
        "\n",
        "---\n",
        "\n"
      ]
    },
    {
      "cell_type": "markdown",
      "metadata": {
        "id": "IrOBlRCZxdcd"
      },
      "source": [
        "#mArticle > div.rank_news > ul.list_news2 > li"
      ]
    },
    {
      "cell_type": "code",
      "metadata": {
        "colab": {
          "base_uri": "https://localhost:8080/"
        },
        "id": "CU0NvcF06bOt",
        "outputId": "6849de1a-caff-43fa-b4d3-cca7da454f02"
      },
      "source": [
        "#자료 추출하기\n",
        "lis = html.select(\"#mArticle > div.rank_news > ul.list_news2 > li\")\n",
        "print(type(lis), ' 요소 수 : ', len(lis))\n",
        "print(lis[0])"
      ],
      "execution_count": 12,
      "outputs": [
        {
          "output_type": "stream",
          "text": [
            "<class 'list'>  요소 수 :  50\n",
            "<li data-tiara-layer=\"news_list\" data-tiara-ordnum=\"1\" data-tiara-type=\"article\">\n",
            "<div class=\"rank_num rank_popular\">\n",
            "<span class=\"wrap_num\">\n",
            "<span class=\"num_rank\">\n",
            "<span class=\"num_news num1\"></span>\n",
            "<span class=\"screen_out\">1</span>\n",
            "</span>\n",
            "</span>\n",
            "</div>\n",
            "<a class=\"link_thumb\" href=\"https://v.daum.net/v/20210709055007317\">\n",
            "<img alt=\"&quot;성관계 민원 수백건&quot;..참다 못한 건물, '동성애자 출입금지' 붙였다\" aria-hidden=\"true\" class=\"thumb_g\" src=\"https://img1.daumcdn.net/thumb/S95x77ht.u/?fname=https%3A%2F%2Ft1.daumcdn.net%2Fnews%2F202107%2F09%2Fmoneytoday%2F20210709062900991lhgl.jpg&amp;scode=media\"/>\n",
            "</a>\n",
            "<div class=\"cont_thumb\">\n",
            "<strong class=\"tit_thumb\">\n",
            "<a class=\"link_txt\" href=\"https://v.daum.net/v/20210709055007317\">\"성관계 민원 수백건\"..참다 못한 건물, '동성애자 출입금지' 붙였다</a>\n",
            "<span class=\"info_news\">머니투데이</span>\n",
            "</strong>\n",
            "<div class=\"desc_thumb\">\n",
            "<span class=\"link_txt\">\n",
            "                        #서울 종로구의 한 건물 지하 4~6층 화장실 입구에는 '동성애자 출입 신고로 화장실을 폐쇄한다'는 공고문이 붙어 있다. 지난 5월부터 1년  넘게 붙어 있는 이 공고문은...\n",
            "                    </span>\n",
            "</div>\n",
            "</div>\n",
            "</li>\n"
          ],
          "name": "stdout"
        }
      ]
    },
    {
      "cell_type": "code",
      "metadata": {
        "colab": {
          "base_uri": "https://localhost:8080/"
        },
        "id": "IkwduFv29ai6",
        "outputId": "8fb2d42e-438b-406c-d82a-2a8762062aa1"
      },
      "source": [
        "#필요한 자료 만들기\n",
        "for li in lis:\n",
        "  title = li.select_one(\".cont_thumb > .tit_thumb > a\").text.replace('\"', '')\n",
        "  print(title)"
      ],
      "execution_count": 17,
      "outputs": [
        {
          "output_type": "stream",
          "text": [
            "성관계 민원 수백건..참다 못한 건물, '동성애자 출입금지' 붙였다\n",
            "신규 확진 1300명 안팎 '사상 최다' 예상..오늘 '수도권 4단계' 발표할 듯\n",
            "음료병에 술 숨겨..부끄러웠다 보건소 몰려든 2030 고백[르포]\n",
            "검사입니다, 전화 끊으면 수배됩니다..바로 끊으세요\n",
            "김부선 진중권, 아직 사랑 모르나..데이트 신청 거절해 이러나\n",
            "'쥴리' '논문표절' 등 與의 윤석열 네거티브 안 먹히는 이유\n",
            "10분도 안돼 취소했는데 숙박시설 피해 57% '온라인 플랫폼'서 발생\n",
            "대통령 빼곤 다 나왔다, 박사만 184명인 강변 마을[한국의 명당]\n",
            "[단독]['대권 주자' 윤석열 인터뷰]추미애와 동반사퇴 다양한 압박..문 대통령 뜻이었다고 봐야겠죠\n",
            "도쿄 올림픽 결국 '무관중' 결정..스가 총리 '사면초가'\n",
            "아이티 대통령 암살 용의자 6명 체포..1명은 미국 시민권자(종합)\n",
            "트럼프, 퇴임후 본인시설서 '백악관 경호 숙박비' 6천만원 청구\n",
            "'4차 대유행'으로 더 급해진 백신접종..13일부터 서울-경기 자율접종\n",
            "[영상] 대낮에 달려들어 성추행한 50대男, 주저앉은 피해자 빤히 응시\n",
            "'통합 대한항공' 새 옷값 대당 10억..비행기 도색 몰랐던 사실 [강갑생의 바퀴와 날개]\n",
            "새벽 2시 술집 들어선 손님, 알고보니 방역단속 뜬 사복경찰\n",
            "어머니에게 아파트 마련해줘라 아버지 유언에도 유산 혼자 차지한 큰형\n",
            "이재명 바지 발언 지나쳤다..사과하며 덧붙인 한마디\n",
            "치킨 먹고 또 때렸다..직원 12시간 폭행해 숨지게 한 대표, 징역 18년\n",
            "[단독] 윤석열, 장모·아내 공격에 실소하더라..전혀 개의치 않아\n",
            "아파트 경비원, 10월부터 택배보관 업무 가능..배달 등은 금지\n",
            "조두순보다 더한 놈이 온다..'소녀 11명 성폭행' 김근식, 9월 출소\n",
            "암살된 아이티 대통령 시신에 총알 12발..영부인은 고비 넘겨\n",
            "'군복 비키니' 여성 NO, 미니스커트 남성 YES..젠더리스 패션은 이제 '숙명'\n",
            "서울 거리두기 4단계 기준 충족..저녁약속 다 취소해야 하나\n",
            "여자아이 머리, 교사가 부모 허락 없이 싹둑.. 美서 논란\n",
            "윤석열 추미애와 함께 물러나면 징계 없다고 사퇴 압박\n",
            "[단독] 토요일 밤부터 수도권 3인 모임 금지할 듯\n",
            "'최다 기록' 하루 만에 깨질 듯..오늘 수도권 4단계 발표 예상\n",
            "이 얼굴이 가짜라고?..사람 환장할 '가상 모델' 전세계 열풍\n",
            "진중권 여, 노무현 죽음 더럽혀.. 대표는 송영길 아닌 김어준\n",
            "[Mint] 순식간에 돈 빠져나간 코인 시장.. 2018년 이후 2번째 '크립토 윈터' 시작됐나\n",
            "시간당 100mm 물폭탄..주말까지 차원 다른 소나기\n",
            "돈 아끼려면 '현금' 써야 하는 과학적 이유\n",
            "막 오른 'K스톱'.. 개미들 피해 우려\n",
            "[영상] 삼성 역대급 가성비폰? 70만원대 최강 갤S21 유출\n",
            "이낙연·이준석·이철희도 가세, 5년만에 또 '여가부 폐지' 싸움\n",
            "'바나나맨' 암살범은 고도로 훈련받은 외국용병\n",
            "벨기에대사 아내 또다시 폭행사건 연루..외무장관 지체없이 본국으로 돌아와야\n",
            "美 중국이 못갖게 하라.. 반도체 패권 열쇠 쥔 이 회사\n",
            "답답해서.. 이재명, '바지 발언' 사과하며 덧붙인 뼈있는 말\n",
            "[단독] 김건희 또 다른 논문, 영문 초록 한 문장 뺀 94% 표절 의혹\n",
            "'살찐 지도자' 부담됐나.. 살 뺀 김정은\n",
            "빚내서, 적금 깨서.. 주식에 넣은 돈 49조 '역대 최대'\n",
            "윤석열, '쥴리' 의혹에 집사람 술마시는 것 싫어해\n",
            "윤석열 입은 오른쪽, 발은 왼쪽..정치권 둘 다 놓칠 수도\n",
            "[르포] 2030 영끌해도 못 사..대출규제 풀자 중저가 아파트값↑\n",
            "'셧다운' 현실로.. 10일부터 3명이상 못모일듯\n",
            "日스가 문대통령 도쿄올림픽 참석 시 정중하게 대응\n",
            "'金징어'는 끝, 오징어가 풍년입니다\n"
          ],
          "name": "stdout"
        }
      ]
    },
    {
      "cell_type": "markdown",
      "metadata": {
        "id": "o0j52hED_Mqu"
      },
      "source": [
        "## 해결문제\n",
        "---\n",
        "댓글많은 뉴스를 사이트의 제목을 수집해서 AI Cloud의 무료 AI 서비스 중 텍스트 감정 분석 결과를 분석하고 결과를 파일로 저장하시오.단, 감성분석 분석(긍정,중립,부정)은 함수를 이용하여 작성하고 댓글수와 제목의 쉼표는 제거하시오.\n",
        "\n",
        "예시) \n",
        "news.csv 내용\n",
        "```\n",
        "순위,제목,댓글수,언론사,감성,신뢰도\n",
        "1,故손정민 父 \"서울경찰청 정민이와 나를 미워한다\",2564,데일리안,부정,0.9970703125\n",
        "2,신고만하면 한국인? \"中에 나라 파냐\" 국적법 때린 반중정서,2274,중앙일보,부정,0.99755859375\n",
        "3,'잔여 백신' 첫날 젊은층 대거 몰렸다..AZ 부정적 시선 바뀌나,1726,파이낸셜뉴스,부정,0.98974609375\n",
        "4,'도쿄올림픽 지도서 독도 삭제' 요구에 日정부 \"수용 불가\",1543,연합뉴스,부정,0.9873046875\n",
        "\n",
        "...\n",
        "\n",
        "47,\"손정민 사건 제가 책임지고\"..경찰 '김창룡 청장 가짜뉴스' 내사,115,뉴스1,부정,0.9921875\n",
        "48,로또 1등 수령자에 통장 비번 요구·5억 적금 강매한 농협,105,뉴스1,부정,0.99072265625\n",
        "49,'도쿄올림픽 지도서 독도 삭제' 韓요구에 日정부 \"수용 불가\",97,중앙일보,부정,0.986328125\n",
        "50,올림픽 취소로 日 배상금 떠안나..日언론 \"IOC와 불평등 계약\",93,뉴스1,부정,0.99609375\n",
        "\n",
        "```"
      ]
    },
    {
      "cell_type": "markdown",
      "metadata": {
        "id": "aTyzoYLczhyR"
      },
      "source": [
        "https://news.daum.net/ranking/bestreply"
      ]
    },
    {
      "cell_type": "code",
      "metadata": {
        "id": "uN8Ur1_Envx-"
      },
      "source": [
        ""
      ],
      "execution_count": null,
      "outputs": []
    },
    {
      "cell_type": "markdown",
      "metadata": {
        "id": "CNlmUIWDdO64"
      },
      "source": [
        "\n",
        "\n",
        "---\n",
        "\n",
        "\n",
        "※ 카카오톡 메신저 내용 분석해보기\n",
        "\n",
        "\n",
        "---\n",
        "\n"
      ]
    }
  ]
}